{
  "nbformat": 4,
  "nbformat_minor": 0,
  "metadata": {
    "colab": {
      "name": "mining_twitter.ipynb",
      "provenance": []
    },
    "kernelspec": {
      "name": "python3",
      "display_name": "Python 3"
    },
    "language_info": {
      "name": "python"
    }
  },
  "cells": [
    {
      "cell_type": "code",
      "metadata": {
        "id": "WOT3e4nezDRp"
      },
      "source": [
        "# x='@teumarkets @mamanya_som ADA DOBBY BARET FINGER HEART KTOWN , YUK LIRIK PLIS UDH DEPRESI BGT GABISA TIDURR '\n",
        "# ' '.join(re.sub(\"(@[A-Za-z0-9]+)|([^0-9A-Za-z \\t])|(\\w+:\\/\\/\\S+)\",\" \",x).split())"
      ],
      "execution_count": null,
      "outputs": []
    },
    {
      "cell_type": "markdown",
      "metadata": {
        "id": "eC3rmIqUDdXS"
      },
      "source": [
        "# PREPROCESSING"
      ]
    },
    {
      "cell_type": "markdown",
      "metadata": {
        "id": "czJIulHglbAw"
      },
      "source": [
        "## Pip Install"
      ]
    },
    {
      "cell_type": "code",
      "metadata": {
        "colab": {
          "base_uri": "https://localhost:8080/"
        },
        "id": "fBv5-Qzyq3vq",
        "outputId": "4c2851d3-30be-4178-acb0-dbf2eb3ff9b8"
      },
      "source": [
        "%%bash\n",
        "pip install pandas\n",
        "pip install keras\n",
        "pip install tweepy\n",
        "pip install regex"
      ],
      "execution_count": null,
      "outputs": [
        {
          "output_type": "stream",
          "text": [
            "Requirement already satisfied: pandas in /usr/local/lib/python3.7/dist-packages (1.1.5)\n",
            "Requirement already satisfied: python-dateutil>=2.7.3 in /usr/local/lib/python3.7/dist-packages (from pandas) (2.8.1)\n",
            "Requirement already satisfied: pytz>=2017.2 in /usr/local/lib/python3.7/dist-packages (from pandas) (2018.9)\n",
            "Requirement already satisfied: numpy>=1.15.4 in /usr/local/lib/python3.7/dist-packages (from pandas) (1.19.5)\n",
            "Requirement already satisfied: six>=1.5 in /usr/local/lib/python3.7/dist-packages (from python-dateutil>=2.7.3->pandas) (1.15.0)\n",
            "Requirement already satisfied: keras in /usr/local/lib/python3.7/dist-packages (2.4.3)\n",
            "Requirement already satisfied: h5py in /usr/local/lib/python3.7/dist-packages (from keras) (2.10.0)\n",
            "Requirement already satisfied: scipy>=0.14 in /usr/local/lib/python3.7/dist-packages (from keras) (1.4.1)\n",
            "Requirement already satisfied: pyyaml in /usr/local/lib/python3.7/dist-packages (from keras) (3.13)\n",
            "Requirement already satisfied: numpy>=1.9.1 in /usr/local/lib/python3.7/dist-packages (from keras) (1.19.5)\n",
            "Requirement already satisfied: six in /usr/local/lib/python3.7/dist-packages (from h5py->keras) (1.15.0)\n",
            "Requirement already satisfied: tweepy in /usr/local/lib/python3.7/dist-packages (3.10.0)\n",
            "Requirement already satisfied: requests[socks]>=2.11.1 in /usr/local/lib/python3.7/dist-packages (from tweepy) (2.23.0)\n",
            "Requirement already satisfied: requests-oauthlib>=0.7.0 in /usr/local/lib/python3.7/dist-packages (from tweepy) (1.3.0)\n",
            "Requirement already satisfied: six>=1.10.0 in /usr/local/lib/python3.7/dist-packages (from tweepy) (1.15.0)\n",
            "Requirement already satisfied: idna<3,>=2.5 in /usr/local/lib/python3.7/dist-packages (from requests[socks]>=2.11.1->tweepy) (2.10)\n",
            "Requirement already satisfied: certifi>=2017.4.17 in /usr/local/lib/python3.7/dist-packages (from requests[socks]>=2.11.1->tweepy) (2020.12.5)\n",
            "Requirement already satisfied: chardet<4,>=3.0.2 in /usr/local/lib/python3.7/dist-packages (from requests[socks]>=2.11.1->tweepy) (3.0.4)\n",
            "Requirement already satisfied: urllib3!=1.25.0,!=1.25.1,<1.26,>=1.21.1 in /usr/local/lib/python3.7/dist-packages (from requests[socks]>=2.11.1->tweepy) (1.24.3)\n",
            "Requirement already satisfied: PySocks!=1.5.7,>=1.5.6; extra == \"socks\" in /usr/local/lib/python3.7/dist-packages (from requests[socks]>=2.11.1->tweepy) (1.7.1)\n",
            "Requirement already satisfied: oauthlib>=3.0.0 in /usr/local/lib/python3.7/dist-packages (from requests-oauthlib>=0.7.0->tweepy) (3.1.0)\n",
            "Requirement already satisfied: regex in /usr/local/lib/python3.7/dist-packages (2019.12.20)\n"
          ],
          "name": "stdout"
        }
      ]
    },
    {
      "cell_type": "code",
      "metadata": {
        "id": "1ub7A0Iglm3h"
      },
      "source": [
        "import tweepy\n",
        "import regex as re\n",
        "import csv\n",
        "import pandas as pd \n",
        "import keras"
      ],
      "execution_count": null,
      "outputs": []
    },
    {
      "cell_type": "markdown",
      "metadata": {
        "id": "L3DUpzIil0Eh"
      },
      "source": [
        "## Data"
      ]
    },
    {
      "cell_type": "code",
      "metadata": {
        "id": "R6ZSKl8El1iN"
      },
      "source": [
        "# Punya Gastiadi dont share it\n",
        "api_key = \"1dmq3wuVeOAIxYygfVmVfFUca\"\n",
        "api_secret_key = \"XYd7kTaZH5Fx3fFzLLIYD57LsPYeWFV5qoY0LVzz1fBgBREbBo\"\n",
        "access_token = \"1389643367537991680-9FxK8zl0VK5OLOBY6VSBODt3vGsoLN\"\n",
        "access_token_secret = \"IiHGDsmks3YK5zxq22jMKWB9vqiSv93ee94NWvnXc1bFB\""
      ],
      "execution_count": null,
      "outputs": []
    },
    {
      "cell_type": "code",
      "metadata": {
        "id": "8dEXbT3ul5WK"
      },
      "source": [
        "auth = tweepy.OAuthHandler(api_key,api_secret_key)\n",
        "auth.set_access_token(access_token,access_token_secret)\n",
        "api = tweepy.API(auth)"
      ],
      "execution_count": null,
      "outputs": []
    },
    {
      "cell_type": "code",
      "metadata": {
        "id": "wkNe77KgmCEJ"
      },
      "source": [
        "# you may replace after q=\" \"\n",
        "hasilSearch = api.search(q=\"kekerasan anak\", count=1000)"
      ],
      "execution_count": null,
      "outputs": []
    },
    {
      "cell_type": "code",
      "metadata": {
        "id": "Ox7LM8DYwQxp"
      },
      "source": [
        "def clean_text(text,remove_repeat_text=True, remove_patterns_text=True, is_lower=True):\n",
        "\n",
        "  if is_lower:\n",
        "    text=text.lower()\n",
        "    \n",
        "  if remove_patterns_text:\n",
        "    for target, patterns in RE_PATTERNS.items():\n",
        "      for pat in patterns:\n",
        "        text=str(text).replace(pat, target)\n",
        "\n",
        "  if remove_repeat_text:\n",
        "    text = re.sub(r'(.)\\1{2,}', r'\\1', text) \n",
        "\n",
        "  text = str(text).replace(\"\\n\", \" \")\n",
        "  text = re.sub(r'[^\\w\\s]',' ',text)\n",
        "  text = re.sub('[0-9]',\"\",text)\n",
        "  text = re.sub(\" +\", \" \", text)\n",
        "  text = re.sub(\"([^\\x00-\\x7F])+\",\" \",text)\n",
        "  return text "
      ],
      "execution_count": null,
      "outputs": []
    },
    {
      "cell_type": "code",
      "metadata": {
        "id": "mT5lgKqIwYi5"
      },
      "source": [
        "def lemma(text, lemmatization=True):\n",
        "  output=\"\"\n",
        "  if lemmatization:\n",
        "    text=text.split(\" \")\n",
        "    for word in text:\n",
        "       word1 = wordnet_lemmatizer.lemmatize(word, pos = \"n\")\n",
        "       word2 = wordnet_lemmatizer.lemmatize(word1, pos = \"v\")\n",
        "       word3 = wordnet_lemmatizer.lemmatize(word2, pos = \"a\")\n",
        "       word4 = wordnet_lemmatizer.lemmatize(word3, pos = \"r\")\n",
        "       output=output + \" \" + word4\n",
        "  else:\n",
        "    output=text\n",
        "  \n",
        "  return str(output.strip())"
      ],
      "execution_count": null,
      "outputs": []
    },
    {
      "cell_type": "code",
      "metadata": {
        "id": "snWsv-XsoDfJ"
      },
      "source": [
        "def byeEmoji(text):\n",
        "    regrex_pattern = re.compile(pattern = \"[\"\n",
        "        u\"\\U0001F600-\\U0001F64F\"  # emoticons\n",
        "        u\"\\U0001F300-\\U0001F5FF\"  # symbols & pictographs\n",
        "        u\"\\U0001F680-\\U0001F6FF\"  # transport & map symbols\n",
        "        u\"\\U0001F1E0-\\U0001F1FF\"\n",
        "        u\"\\U0001F700-\\U0001F77F\"  # alchemical symbols\n",
        "        u\"\\U0001F780-\\U0001F7FF\"  # Geometric Shapes Extended\n",
        "        u\"\\U0001F800-\\U0001F8FF\"  # Supplemental Arrows-C\n",
        "        u\"\\U0001F900-\\U0001F9FF\"  # Supplemental Symbols and Pictographs\n",
        "        u\"\\U0001FA00-\\U0001FA6F\"  # Chess Symbols\n",
        "        u\"\\U0001FA70-\\U0001FAFF\"  # Symbols and Pictographs Extended-A\n",
        "        u\"\\U00002702-\\U000027B0\"  # Dingbats\n",
        "        u\"\\U000024C2-\\U0001F251\"  # flags (iOS)\n",
        "                           \"]+\", flags = re.UNICODE)\n",
        "    return regrex_pattern.sub(r'',text)"
      ],
      "execution_count": null,
      "outputs": []
    },
    {
      "cell_type": "code",
      "metadata": {
        "id": "0jBH3TjroGOz"
      },
      "source": [
        "def clear_data(text):\n",
        "  # remove links\n",
        "  text = re.sub(\"https://t.co/\\S*\",\"\",text) \n",
        "\n",
        "  # remove newline\n",
        "  text = re.sub(\"\\n\",\"\",text)\n",
        "\n",
        "  # remove digits\n",
        "  text = re.sub(\"[0-9]\",\"\",text)\n",
        "\n",
        "  # remove emojis\n",
        "  text = byeEmoji(text)\n",
        "\n",
        "  return text"
      ],
      "execution_count": null,
      "outputs": []
    },
    {
      "cell_type": "code",
      "metadata": {
        "id": "6V-DJLgomDLl",
        "colab": {
          "base_uri": "https://localhost:8080/"
        },
        "outputId": "4aace1e1-c673-40d9-90f5-7048ac6e4e8d"
      },
      "source": [
        "hasilAnalisis = []\n",
        "\n",
        "for tweet in hasilSearch:\n",
        "  print(tweet.text)\n",
        "  # tweet_properties = {} #buat dict baru\n",
        "  # tweet_properties[\"isi_tweet\"] = tweet.text\n",
        "\n",
        "  tweet_bersih = ' '.join(re.sub(\"(@[A-Za-z0-9]+)|([^0-9A-Za-z \\t])|(\\w+:\\/\\/\\S+)|(RT)\",\" \",tweet.text).split())\n",
        "\n",
        "  # print(tweet_properties)\n",
        "  # print(tweet_bersih)\n",
        "  hasilAnalisis.append(tweet_bersih)\n",
        "\n",
        "  # bersih_sekali = tweet_properties.get(\"isi_tweet\")\n",
        "  # hasilAnalisis.append(bersih_sekali)\n",
        "\n"
      ],
      "execution_count": null,
      "outputs": [
        {
          "output_type": "stream",
          "text": [
            "Bagaimana Mengatasi Anak Sembuh dari Trauma Kekerasan? Ini Penjelasan Psikolog\n",
            " \n",
            "https://t.co/cgRov2zQba via @TribunHealth\n",
            "Apa Saja Dampak Psikologis bagi Anak yang Sering Mendapatkan Kekerasan? Begini Tanggapan Psikolog… https://t.co/zmr8vKld3z\n",
            "ㅤ\n",
            "ㅤ ㅤ\n",
            "Meski begitu, Rega tak pernah membalasnya. Hei, bisa-bisa ia dicoret dan tak diaku sebagai anak oleh ibunya j… https://t.co/nXFIDTB6Sp\n",
            "Menteri Pemberdayaan Perempuan dan Perlindungan Anak Bintang Puspayoga, Senin (24/5) Siang meninjau kegiatan pelaks… https://t.co/ndOe5FbknG\n",
            "Untuk melakukan upaya pencegahan kekerasan anak, forum anak se-Jawa Timur bertemu untuk membentuk agen informasi ba… https://t.co/xltFhLhu01\n",
            "RT @_E_J_A_: Anak harus tumbuh dan berkembang dengan baik\n",
            "BERIKAN SENYUMAN BUKAN SIKSAAN\n",
            "CIPTAKAN KEDAMAIAN BUKAN KEKERASAN\n",
            "\n",
            "#OpChildSafety…\n",
            "RT @kidungsenja17: Apresiasi Masyarakat Kepada Sat Reskrim Polres Tangsel Atas Pengungkapan Kasus Kekerasan Terhadap Anak\n",
            "\n",
            "#SaveAnakIndones…\n",
            "hingga kekerasan dalam rumah tangga. - Anak yang riang: anak ini pada umumnya sehat dan sering diabaikan saat dewas… https://t.co/VLeErIOZ00\n",
            "@literarybase non-fiksi: 3 jenis kekerasan anak &amp; tanda-tanda anak  korban kekerasan (siapa tau ada di sekitar), ca… https://t.co/NoJDRqeGGk\n",
            "pornografi adalah cara kita mengasihi orang lain, namun sekarang hal yang porno\" dilarang,tapi kekerasan boleh,pera… https://t.co/XGpV4oTemd\n",
            "RT @ayungp2: Kekerasan terhadap perempuan ternyata sudah terjadi sejak menjadi anak dan masa pacaran.\n",
            "\n",
            "Pendidikan salah satu upaya mengikis…\n",
            "Kekerasan terhadap perempuan ternyata sudah terjadi sejak menjadi anak dan masa pacaran.\n",
            "\n",
            "Pendidikan salah satu upa… https://t.co/if9UuTSrWy\n",
            "ㅤㅤ\n",
            "\n",
            "Berdasarkan dari Global Status Report on Preventing Violence Against Children 2020, separuh dari total populasi… https://t.co/erCDw2WqhH\n",
            "Pemkot Yogyakarta mencatat, data kekerasan terhadap anak selama pandemi meningkat\n",
            "#COVID19 #COVID__19 #COVIDー19… https://t.co/PeCAblyrkg\n",
            "Ini juga kasus conan ga ada lgbt, ga ada unsur kekerasan seksual atau perkosaan, kayaknya gegara buat anak-anak deh ranahnya wkwkw\n",
            "Peningkatan jumlah kasus kekerasan pada perempuan dan anak menunjukkan rentannya peristiwa kekerasan dalam keluarga… https://t.co/EejwsgRF53\n",
            "Bisa ga sih orang dewasa sadar kalo mereka itu dicontoh sama anak kecil dan punya tanggung jawab utk melindungi ana… https://t.co/PDi5K3k7DM\n",
            "@lanaTriangga @DivHumas_Polri @1trenggalek @reshumastangsel 99% kekerasan terhadap anak pelaku nya adalah orang ter… https://t.co/qfKdnyV0lf\n",
            "RT @1trenggalek: Stop kekerasan terhadap anak\n",
            "@DivHumas_Polri\n",
            "@reshumastangsel\n",
            "\n",
            "#SaveAnakIndonesia https://t.co/npBwVBvYBs\n",
            "Angka Kekerasan Anak Tinggi KPA Tangani 10 Kasus Hukum Tahun 2021 https://t.co/pdtmv1DyUT\n",
            "Putri Ayu Soroti Kasus Kekerasan Terhadap Anak di Tangsel\n",
            "\n",
            "https://t.co/cVp6iNWFG0 #pdiperjuangan\n",
            "bener2 deh indonesia darurat kekerasan seksual pada anak-anak. \n",
            "Pada gila x ya anak2 kecil yg d jadiin korban Ya Allah..\n",
            "Kekerasan terhadap Perempuan dan Anak di Masa Pandemi https://t.co/WB5CZxLfyX https://t.co/xl286madha\n",
            "RT @thestorykids: -tsk Buat STAY yang masih underage dan pengen nonton Deadpool soalnya emang @Stray_Kids bawain konsep itu, ada peringatan…\n",
            "DP3A Sulteng: Kekerasan perempuan-anak masih sering terjadi https://t.co/UFWliEdAh3\n",
            "RT @dr_koko28: Anak-anak korban KDRT, atau korban bullying di sekolah, atau tindak kekerasan mana saja, sangat rentan mengalami trauma. \n",
            "\n",
            "T…\n",
            "Rata-rata anak-anak yang mengalami kekerasan fisik akan mengalami penuaan lebih cepat.\n",
            "RT @1trenggalek: Stop kekerasan terhadap anak\n",
            "@DivHumas_Polri\n",
            "@reshumastangsel\n",
            "\n",
            "#SaveAnakIndonesia https://t.co/npBwVBvYBs\n",
            "@Jefferyyyyy @ahlihtinder Dan satu lagi, bukan anak aja yg bisa durhaka sama orang tua. Tp orang tua juga bisa durh… https://t.co/jVOaNFYV8F\n",
            "RT @thatsokaybestie: @ahlihtinder seburuk apapun perilaku anak padahal itu tanggung jawab orang tua, bisa jadi juga cerminan sikap ortu.…\n",
            "@ahlihtinder seburuk apapun perilaku anak padahal itu tanggung jawab orang tua, bisa jadi juga cerminan sikap ortu.… https://t.co/IEL6IjDmXo\n",
            "RT @KomnasPerempuan: @akbarpitiq @makLambeTurah Terima kasih atas informasinya, kekerasan terhadap anak sesuai mandat dapat dilaporkan ke @…\n",
            "RT @ryanffebrianto: Halo! Mumpung viral wkwk\n",
            "\n",
            "Mungkin belum banyak yang tahu kalau kita juga punya layanan hotline untuk pengaduan kekerasa…\n",
            "RT @1trenggalek: Stop kekerasan terhadap anak\n",
            "@DivHumas_Polri\n",
            "@reshumastangsel\n",
            "\n",
            "#SaveAnakIndonesia https://t.co/npBwVBvYBs\n",
            "RT @ryanffebrianto: Halo! Mumpung viral wkwk\n",
            "\n",
            "Mungkin belum banyak yang tahu kalau kita juga punya layanan hotline untuk pengaduan kekerasa…\n",
            "\"...tp se kurang ajarnya anak perempuan, ga seharusnya dipukul dan dikasari, apalagi menggunakan alat..\"\n",
            "\n",
            "gaada ala… https://t.co/OfgqS8OSWF\n",
            "Karena pendidikan inklusif termasuk Sekolah Ramah Anak adalah satuan pendidikan yang mampu menjamin, memenuhi, meng… https://t.co/hYNn7tHldd\n",
            "@kwonbiiin @oliviohye @jayb_hr Ini tindakan kekerasan terhadap anak\"\n",
            "@kmingcyu Gaboleh kekerasan sama anak kecil\n",
            "RT @ryanffebrianto: Halo! Mumpung viral wkwk\n",
            "\n",
            "Mungkin belum banyak yang tahu kalau kita juga punya layanan hotline untuk pengaduan kekerasa…\n",
            "RT @ryanffebrianto: Halo! Mumpung viral wkwk\n",
            "\n",
            "Mungkin belum banyak yang tahu kalau kita juga punya layanan hotline untuk pengaduan kekerasa…\n",
            "Bertemakan tentang anak-anak, bagaimana pelecehan atau kekerasan yang terjadi anak-anak dan topik lainnya menjadika… https://t.co/wGAi0PBE7L\n",
            "Sampe akhir hayat mereka. \n",
            "\n",
            "Dan sampe saat ini, terlebih sering baca kasus abusive parents, toxic parents, kekerasa… https://t.co/8EhWTOe6td\n",
            "@akbarpitiq @makLambeTurah Terima kasih atas informasinya, kekerasan terhadap anak sesuai mandat dapat dilaporkan k… https://t.co/lF72t8WXs4\n",
            "DP3A Sulteng: Kekerasan terhadap perempuan-anak masih sering terjadi - #INDONESIA\n",
            "\n",
            "https://t.co/aJgl9uUnTA\n",
            "RT @mediaindonesia: Kasus kekerasan seksual marak, Komisi Nasional Perlindungan Perempuan dan Anak mendesak pengesahan RUU PKS.  https://t.…\n",
            "@motekargondang @jawafess Semacam nandur ngundhuh ya..  Membesarkan dengan kekerasan dan emosi ,  membentuk anak de… https://t.co/tbfnJ9Smyp\n",
            "2. Efek berbahaya pada kesehatan ibu karena peningkatan paparan panas\n",
            "\n",
            "3. Berkurangnya akses ke air bersih selama k… https://t.co/9dcEyA4Wcw\n",
            "RT @mediaindonesia: Kasus kekerasan seksual marak, Komisi Nasional Perlindungan Perempuan dan Anak mendesak pengesahan RUU PKS.  https://t.…\n",
            "@humaspolrestangsel\n",
            "...\n",
            "Apresiasi Mayarakat @gisel (Publik Figure) Kepada Sat Reskrim Polres Tangsel Atas Pengungka… https://t.co/3OdDd45H6P\n",
            "@humaspolrestangsel\n",
            "...\n",
            "Apresiasi Mayarakat (Publik Figure) Kepada Sat Reskrim Polres Tangsel Atas Pengungkapan Kas… https://t.co/GtMT5kbPX6\n",
            "@softciopath @tubirfess Gue ga membenarkan kekerasan pada anak. Konteksnya itu ponsel dan kena marah\n",
            "Menurut KPAI, sudah menjadi tugas kita semua untuk melindungi siapa saja, termasuk anak-anak, dari potensi kejahata… https://t.co/85K451GL70\n",
            "@CepuSiber @tubirfess shouldn't have a kid kalo masih tidak bisa mengontrol emosi dan menyadari kalau anak sewaktu2… https://t.co/om0snqZUfm\n",
            "RT @dp3ap2kb_jateng: Hai sobat penak!!\n",
            "Pahami yuk berbagai istilah dalam pelecehan seksual. \n",
            "\n",
            "Tetap waspada ya sobat terhadap kejahatan yan…\n",
            "@CepuSiber @tubirfess sesalah apapun, mukul anak itu gaada pembenarannya.  ngeri banget kalau orang-orang kaya lo y… https://t.co/omOMRLSYNa\n",
            "Kasus kekerasan seksual marak, Komisi Nasional Perlindungan Perempuan dan Anak mendesak pengesahan RUU PKS.  https://t.co/gRe27v44vH\n",
            "@svnheri jangan gituuu:((( itu kekerasan terhadap anak kecil tauuu:((\n",
            "Keluarga nya lembek, ngajarin anak pas awal mah pake kekerasan. Giliran udah gede anaknya ga berguna malah dimanja 😑 https://t.co/mhCZ02zos6\n",
            "plis ini gue benci bgt 💀💀 gue pernah nyuruh anak gc fanbase gue utk stream, setiap hari, tp ga pake kekerasan, cm s… https://t.co/VGn1pHOBL3\n",
            "Pemerintah Indonesia melalui Kementerian Luar Negeri secara konsisten mendukung pemenuhan hak warga Palestina. Indo… https://t.co/2g3lMuJFSL\n",
            "Pemerintah Indonesia melalui Kementerian Luar Negeri secara konsisten mendukung pemenuhan hak warga Palestina. Indo… https://t.co/SuuKceEYyR\n",
            "Pemerintah Indonesia melalui Kementerian Luar Negeri secara konsisten mendukung pemenuhan hak warga Palestina. Indo… https://t.co/PeajZDwb0J\n",
            "Pemerintah Indonesia melalui Kementerian Luar Negeri secara konsisten mendukung pemenuhan hak warga Palestina. Indo… https://t.co/vmpWMMTCrh\n",
            "Pemerintah Indonesia melalui Kementerian Luar Negeri secara konsisten mendukung pemenuhan hak warga Palestina. Indo… https://t.co/SXQ4eWK8a8\n",
            "Hai sobat penak!!\n",
            "Pahami yuk berbagai istilah dalam pelecehan seksual. \n",
            "\n",
            "Tetap waspada ya sobat terhadap kejahatan… https://t.co/VWxjzQCKB0\n",
            "Pemerintah Indonesia melalui Kementerian Luar Negeri secara konsisten mendukung pemenuhan hak warga Palestina. Indo… https://t.co/CnCSpapZek\n",
            "RT @databoksid: Kementerian PPA mencatat ada 4.696 kasus kekerasan terhadap perempuan dan anak sejak 1 Januari - 19 Mei 2021. Mayoritas kas…\n",
            "RT @SisiwittFrida: Jk pemimpin tdk amanah (korup), rakyat ricuh (tdk tertib/taat aturan), pendidik tdk terbuka wawasan (tdk bijak), orgtua…\n",
            "@antkarolinaa @sbyfess Ada studi kasus misal:\n",
            "Kalo anak nangis, orang dlu malah marahin, nyubit, blablabla malah ik… https://t.co/z6hBYwvAnm\n",
            "@enuwou Dilarang melakukan kekerasan pada anak\n",
            "@restumamak maap aku anak baik baik yg gak suka kekerasan dan rajin menabung\n",
            "bener2 deh indonesia darurat kekerasan seksual pada anak-anak. \n",
            "Pada gila x ya anak2 kecil yg d jadiin korban Ya Allah..\n",
            "Yayasan JaRI Proudly Present \n",
            "LOMBA MENULIS MERDEKA DARI KEKERASAN\n",
            "\n",
            "Segera daftarkan diri kalian untuk ikutserta da… https://t.co/YbtaxfFq5s\n",
            "RT @NS_Indah79: Demi kebaikan kita bersama.\n",
            ".\n",
            ".\n",
            "Polisi Akan Peringatkan Akun Medsos yang Unggah Video Kekerasan Anak di Tangsel https://t.c…\n",
            "RT @NS_Indah79: Demi kebaikan kita bersama.\n",
            ".\n",
            ".\n",
            "Polisi Akan Peringatkan Akun Medsos yang Unggah Video Kekerasan Anak di Tangsel https://t.c…\n",
            "RT @NS_Indah79: Demi kebaikan kita bersama.\n",
            ".\n",
            ".\n",
            "Polisi Akan Peringatkan Akun Medsos yang Unggah Video Kekerasan Anak di Tangsel https://t.c…\n",
            "Amanah internasional lain adalah: telah terjadi kekerasan terhadap warga Palestina, termasuk wanita &amp; anak, dan pem… https://t.co/rP8F0CuL83\n",
            "Kementerian PPA mencatat ada 4.696 kasus kekerasan terhadap perempuan dan anak sejak 1 Januari - 19 Mei 2021. Mayor… https://t.co/CPqGFMPyJ7\n",
            "Mau lapor kekerasan @jenebriz dan suami nya akan anak angkat mereka https://t.co/bkkvplkQzj\n",
            "RT @SisiwittFrida: Jk pemimpin tdk amanah (korup), rakyat ricuh (tdk tertib/taat aturan), pendidik tdk terbuka wawasan (tdk bijak), orgtua…\n",
            "Data tahun 2019, ada 139 kasus kekerasan, sementara pada 2020 ditemukan 145 kasus. Sebanyak 39 kasus di antaranya m… https://t.co/0FsoPLbZJd\n",
            "RT @sdenta: Ini mungkin agak sensitif, tapi sebenernya ya, dokter bisa tau mana luka pada anak yang disebabkan oleh sebab yang tidak diseng…\n",
            "Emak ke aku: *nyubit paha kanan kiri sampe biru-biru, lalu lanjut ngegebuk pake sapu lidi\n",
            "\n",
            "Emak ke ade: \"KAMU JADI… https://t.co/edeZq1uypy\n",
            "RT @RefhanieB: [Part 1] Twitter pls do ur magic😭\n",
            "\n",
            "Jd bbrp hari lalu aku dpt kabar bahwa ada seorang anak perempuan, namanya Dewi 20th. dia…\n",
            "@shenacinnamon Sebagai seorang paralegal  pendamping perempuan, anak dan difabel korban kekerasan, suka banget idol… https://t.co/6U9462VdQp\n",
            "RT @FLPoke: Mengapa kita harus membela Palestina? Karena telah terjadi kekerasan terhadap warga sipil terutama wanita dan anak-anak.\n",
            "#WeSta…\n",
            "Senakal-nakalnya atau sekurang ajarnya anak kekerasan fisik dalam mendidik tidak di benarkan https://t.co/EQfwRCl7uM\n",
            "RT @_E_J_A_: Anak harus tumbuh dan berkembang dengan baik\n",
            "BERIKAN SENYUMAN BUKAN SIKSAAN\n",
            "CIPTAKAN KEDAMAIAN BUKAN KEKERASAN\n",
            "\n",
            "#OpChildSafety…\n",
            "RT @FLPoke: Mengapa kita harus membela Palestina? Karena telah terjadi kekerasan terhadap warga sipil terutama wanita dan anak-anak.\n",
            "#WeSta…\n",
            "RT @_E_J_A_: Anak harus tumbuh dan berkembang dengan baik\n",
            "BERIKAN SENYUMAN BUKAN SIKSAAN\n",
            "CIPTAKAN KEDAMAIAN BUKAN KEKERASAN\n",
            "\n",
            "#OpChildSafety…\n",
            "RT @FLPoke: Mengapa kita harus membela Palestina? Karena telah terjadi kekerasan terhadap warga sipil terutama wanita dan anak-anak.\n",
            "#WeSta…\n",
            "RT @_E_J_A_: Anak harus tumbuh dan berkembang dengan baik\n",
            "BERIKAN SENYUMAN BUKAN SIKSAAN\n",
            "CIPTAKAN KEDAMAIAN BUKAN KEKERASAN\n",
            "\n",
            "#OpChildSafety…\n",
            "RT @KomnasPerempuan: @papa_gestun @ahlihtinder @fancyslave @KomnasHAM @komnas_anak @DivHumas_Polri @hariankompas @tvOneNews Halo Kak @ahlih…\n",
            "RT @FLPoke: Mengapa kita harus membela Palestina? Karena telah terjadi kekerasan terhadap warga sipil terutama wanita dan anak-anak.\n",
            "#WeSta…\n",
            "Mengapa kita harus membela Palestina? Karena telah terjadi kekerasan terhadap warga sipil terutama wanita dan anak-… https://t.co/Nml2fBp8be\n",
            "Telah terjadi kekerasan terhadap warga sipil Palestina. Bahkan, Israel rutin menangkap anak-anak remaja dan Palesti… https://t.co/LFqePeUZYq\n",
            "RT @KomnasPerempuan: @papa_gestun @ahlihtinder @fancyslave @KomnasHAM @komnas_anak @DivHumas_Polri @hariankompas @tvOneNews Halo Kak @ahlih…\n",
            "@dayatia Anak SD-SMA pun bisa burnout di situasi skrg. Di rumah bokap nyokap saling adu teriak pas daring depan gaw… https://t.co/LE3bpZQeYm\n",
            "RT @SisiwittFrida: Jk pemimpin tdk amanah (korup), rakyat ricuh (tdk tertib/taat aturan), pendidik tdk terbuka wawasan (tdk bijak), orgtua…\n"
          ],
          "name": "stdout"
        }
      ]
    },
    {
      "cell_type": "code",
      "metadata": {
        "colab": {
          "base_uri": "https://localhost:8080/"
        },
        "id": "qW37mhm45uXV",
        "outputId": "6da26a22-e80d-4f27-83f5-5ab19f8e8a27"
      },
      "source": [
        "hasilAnalisis"
      ],
      "execution_count": null,
      "outputs": [
        {
          "output_type": "execute_result",
          "data": {
            "text/plain": [
              "['Bagaimana Mengatasi Anak Sembuh dari Trauma Kekerasan Ini Penjelasan Psikolog via',\n",
              " 'Apa Saja Dampak Psikologis bagi Anak yang Sering Mendapatkan Kekerasan Begini Tanggapan Psikolog',\n",
              " 'Meski begitu Rega tak pernah membalasnya Hei bisa bisa ia dicoret dan tak diaku sebagai anak oleh ibunya j',\n",
              " 'Menteri Pemberdayaan Perempuan dan Perlindungan Anak Bintang Puspayoga Senin 24 5 Siang meninjau kegiatan pelaks',\n",
              " 'Untuk melakukan upaya pencegahan kekerasan anak forum anak se Jawa Timur bertemu untuk membentuk agen informasi ba',\n",
              " 'E J A Anak harus tumbuh dan berkembang dengan baik BERIKAN SENYUMAN BUKAN SIKSAAN CIPTAKAN KEDAMAIAN BUKAN KEKERASAN OpChildSafety',\n",
              " 'Apresiasi Masyarakat Kepada Sat Reskrim Polres Tangsel Atas Pengungkapan Kasus Kekerasan Terhadap Anak SaveAnakIndones',\n",
              " 'hingga kekerasan dalam rumah tangga Anak yang riang anak ini pada umumnya sehat dan sering diabaikan saat dewas',\n",
              " 'non fiksi 3 jenis kekerasan anak amp tanda tanda anak korban kekerasan siapa tau ada di sekitar ca',\n",
              " 'pornografi adalah cara kita mengasihi orang lain namun sekarang hal yang porno dilarang tapi kekerasan boleh pera',\n",
              " 'Kekerasan terhadap perempuan ternyata sudah terjadi sejak menjadi anak dan masa pacaran Pendidikan salah satu upaya mengikis',\n",
              " 'Kekerasan terhadap perempuan ternyata sudah terjadi sejak menjadi anak dan masa pacaran Pendidikan salah satu upa',\n",
              " 'Berdasarkan dari Global Status Report on Preventing Violence Against Children 2020 separuh dari total populasi',\n",
              " 'Pemkot Yogyakarta mencatat data kekerasan terhadap anak selama pandemi meningkat COVID19 COVID 19 COVID 19',\n",
              " 'Ini juga kasus conan ga ada lgbt ga ada unsur kekerasan seksual atau perkosaan kayaknya gegara buat anak anak deh ranahnya wkwkw',\n",
              " 'Peningkatan jumlah kasus kekerasan pada perempuan dan anak menunjukkan rentannya peristiwa kekerasan dalam keluarga',\n",
              " 'Bisa ga sih orang dewasa sadar kalo mereka itu dicontoh sama anak kecil dan punya tanggung jawab utk melindungi ana',\n",
              " 'Polri 99 kekerasan terhadap anak pelaku nya adalah orang ter',\n",
              " 'Stop kekerasan terhadap anak Polri SaveAnakIndonesia',\n",
              " 'Angka Kekerasan Anak Tinggi KPA Tangani 10 Kasus Hukum Tahun 2021',\n",
              " 'Putri Ayu Soroti Kasus Kekerasan Terhadap Anak di Tangsel pdiperjuangan',\n",
              " 'bener2 deh indonesia darurat kekerasan seksual pada anak anak Pada gila x ya anak2 kecil yg d jadiin korban Ya Allah',\n",
              " 'Kekerasan terhadap Perempuan dan Anak di Masa Pandemi',\n",
              " 'tsk Buat STAY yang masih underage dan pengen nonton Deadpool soalnya emang Kids bawain konsep itu ada peringatan',\n",
              " 'DP3A Sulteng Kekerasan perempuan anak masih sering terjadi',\n",
              " 'koko28 Anak anak korban KD atau korban bullying di sekolah atau tindak kekerasan mana saja sangat rentan mengalami trauma T',\n",
              " 'Rata rata anak anak yang mengalami kekerasan fisik akan mengalami penuaan lebih cepat',\n",
              " 'Stop kekerasan terhadap anak Polri SaveAnakIndonesia',\n",
              " 'Dan satu lagi bukan anak aja yg bisa durhaka sama orang tua Tp orang tua juga bisa durh',\n",
              " 'seburuk apapun perilaku anak padahal itu tanggung jawab orang tua bisa jadi juga cerminan sikap ortu',\n",
              " 'seburuk apapun perilaku anak padahal itu tanggung jawab orang tua bisa jadi juga cerminan sikap ortu',\n",
              " 'Terima kasih atas informasinya kekerasan terhadap anak sesuai mandat dapat dilaporkan ke',\n",
              " 'Halo Mumpung viral wkwk Mungkin belum banyak yang tahu kalau kita juga punya layanan hotline untuk pengaduan kekerasa',\n",
              " 'Stop kekerasan terhadap anak Polri SaveAnakIndonesia',\n",
              " 'Halo Mumpung viral wkwk Mungkin belum banyak yang tahu kalau kita juga punya layanan hotline untuk pengaduan kekerasa',\n",
              " 'tp se kurang ajarnya anak perempuan ga seharusnya dipukul dan dikasari apalagi menggunakan alat gaada ala',\n",
              " 'Karena pendidikan inklusif termasuk Sekolah Ramah Anak adalah satuan pendidikan yang mampu menjamin memenuhi meng',\n",
              " 'hr Ini tindakan kekerasan terhadap anak',\n",
              " 'Gaboleh kekerasan sama anak kecil',\n",
              " 'Halo Mumpung viral wkwk Mungkin belum banyak yang tahu kalau kita juga punya layanan hotline untuk pengaduan kekerasa',\n",
              " 'Halo Mumpung viral wkwk Mungkin belum banyak yang tahu kalau kita juga punya layanan hotline untuk pengaduan kekerasa',\n",
              " 'Bertemakan tentang anak anak bagaimana pelecehan atau kekerasan yang terjadi anak anak dan topik lainnya menjadika',\n",
              " 'Sampe akhir hayat mereka Dan sampe saat ini terlebih sering baca kasus abusive parents toxic parents kekerasa',\n",
              " 'Terima kasih atas informasinya kekerasan terhadap anak sesuai mandat dapat dilaporkan k',\n",
              " 'DP3A Sulteng Kekerasan terhadap perempuan anak masih sering terjadi INDONESIA',\n",
              " 'Kasus kekerasan seksual marak Komisi Nasional Perlindungan Perempuan dan Anak mendesak pengesahan RUU PKS',\n",
              " 'Semacam nandur ngundhuh ya Membesarkan dengan kekerasan dan emosi membentuk anak de',\n",
              " '2 Efek berbahaya pada kesehatan ibu karena peningkatan paparan panas 3 Berkurangnya akses ke air bersih selama k',\n",
              " 'Kasus kekerasan seksual marak Komisi Nasional Perlindungan Perempuan dan Anak mendesak pengesahan RUU PKS',\n",
              " 'Apresiasi Mayarakat Publik Figure Kepada Sat Reskrim Polres Tangsel Atas Pengungka',\n",
              " 'Apresiasi Mayarakat Publik Figure Kepada Sat Reskrim Polres Tangsel Atas Pengungkapan Kas',\n",
              " 'Gue ga membenarkan kekerasan pada anak Konteksnya itu ponsel dan kena marah',\n",
              " 'Menurut KPAI sudah menjadi tugas kita semua untuk melindungi siapa saja termasuk anak anak dari potensi kejahata',\n",
              " 'shouldn t have a kid kalo masih tidak bisa mengontrol emosi dan menyadari kalau anak sewaktu2',\n",
              " 'jateng Hai sobat penak Pahami yuk berbagai istilah dalam pelecehan seksual Tetap waspada ya sobat terhadap kejahatan yan',\n",
              " 'sesalah apapun mukul anak itu gaada pembenarannya ngeri banget kalau orang orang kaya lo y',\n",
              " 'Kasus kekerasan seksual marak Komisi Nasional Perlindungan Perempuan dan Anak mendesak pengesahan RUU PKS',\n",
              " 'jangan gituuu itu kekerasan terhadap anak kecil tauuu',\n",
              " 'Keluarga nya lembek ngajarin anak pas awal mah pake kekerasan Giliran udah gede anaknya ga berguna malah dimanja',\n",
              " 'plis ini gue benci bgt gue pernah nyuruh anak gc fanbase gue utk stream setiap hari tp ga pake kekerasan cm s',\n",
              " 'Pemerintah Indonesia melalui Kementerian Luar Negeri secara konsisten mendukung pemenuhan hak warga Palestina Indo',\n",
              " 'Pemerintah Indonesia melalui Kementerian Luar Negeri secara konsisten mendukung pemenuhan hak warga Palestina Indo',\n",
              " 'Pemerintah Indonesia melalui Kementerian Luar Negeri secara konsisten mendukung pemenuhan hak warga Palestina Indo',\n",
              " 'Pemerintah Indonesia melalui Kementerian Luar Negeri secara konsisten mendukung pemenuhan hak warga Palestina Indo',\n",
              " 'Pemerintah Indonesia melalui Kementerian Luar Negeri secara konsisten mendukung pemenuhan hak warga Palestina Indo',\n",
              " 'Hai sobat penak Pahami yuk berbagai istilah dalam pelecehan seksual Tetap waspada ya sobat terhadap kejahatan',\n",
              " 'Pemerintah Indonesia melalui Kementerian Luar Negeri secara konsisten mendukung pemenuhan hak warga Palestina Indo',\n",
              " 'Kementerian PPA mencatat ada 4 696 kasus kekerasan terhadap perempuan dan anak sejak 1 Januari 19 Mei 2021 Mayoritas kas',\n",
              " 'Jk pemimpin tdk amanah korup rakyat ricuh tdk tertib taat aturan pendidik tdk terbuka wawasan tdk bijak orgtua',\n",
              " 'Ada studi kasus misal Kalo anak nangis orang dlu malah marahin nyubit blablabla malah ik',\n",
              " 'Dilarang melakukan kekerasan pada anak',\n",
              " 'maap aku anak baik baik yg gak suka kekerasan dan rajin menabung',\n",
              " 'bener2 deh indonesia darurat kekerasan seksual pada anak anak Pada gila x ya anak2 kecil yg d jadiin korban Ya Allah',\n",
              " 'Yayasan JaRI Proudly Present LOMBA MENULIS MERDEKA DARI KEKERASAN Segera daftarkan diri kalian untuk ikutserta da',\n",
              " 'Indah79 Demi kebaikan kita bersama Polisi Akan Peringatkan Akun Medsos yang Unggah Video Kekerasan Anak di Tangsel',\n",
              " 'Indah79 Demi kebaikan kita bersama Polisi Akan Peringatkan Akun Medsos yang Unggah Video Kekerasan Anak di Tangsel',\n",
              " 'Indah79 Demi kebaikan kita bersama Polisi Akan Peringatkan Akun Medsos yang Unggah Video Kekerasan Anak di Tangsel',\n",
              " 'Amanah internasional lain adalah telah terjadi kekerasan terhadap warga Palestina termasuk wanita amp anak dan pem',\n",
              " 'Kementerian PPA mencatat ada 4 696 kasus kekerasan terhadap perempuan dan anak sejak 1 Januari 19 Mei 2021 Mayor',\n",
              " 'Mau lapor kekerasan dan suami nya akan anak angkat mereka',\n",
              " 'Jk pemimpin tdk amanah korup rakyat ricuh tdk tertib taat aturan pendidik tdk terbuka wawasan tdk bijak orgtua',\n",
              " 'Data tahun 2019 ada 139 kasus kekerasan sementara pada 2020 ditemukan 145 kasus Sebanyak 39 kasus di antaranya m',\n",
              " 'Ini mungkin agak sensitif tapi sebenernya ya dokter bisa tau mana luka pada anak yang disebabkan oleh sebab yang tidak diseng',\n",
              " 'Emak ke aku nyubit paha kanan kiri sampe biru biru lalu lanjut ngegebuk pake sapu lidi Emak ke ade KAMU JADI',\n",
              " 'Part 1 Twitter pls do ur magic Jd bbrp hari lalu aku dpt kabar bahwa ada seorang anak perempuan namanya Dewi 20th dia',\n",
              " 'Sebagai seorang paralegal pendamping perempuan anak dan difabel korban kekerasan suka banget idol',\n",
              " 'Mengapa kita harus membela Palestina Karena telah terjadi kekerasan terhadap warga sipil terutama wanita dan anak anak WeSta',\n",
              " 'Senakal nakalnya atau sekurang ajarnya anak kekerasan fisik dalam mendidik tidak di benarkan',\n",
              " 'E J A Anak harus tumbuh dan berkembang dengan baik BERIKAN SENYUMAN BUKAN SIKSAAN CIPTAKAN KEDAMAIAN BUKAN KEKERASAN OpChildSafety',\n",
              " 'Mengapa kita harus membela Palestina Karena telah terjadi kekerasan terhadap warga sipil terutama wanita dan anak anak WeSta',\n",
              " 'E J A Anak harus tumbuh dan berkembang dengan baik BERIKAN SENYUMAN BUKAN SIKSAAN CIPTAKAN KEDAMAIAN BUKAN KEKERASAN OpChildSafety',\n",
              " 'Mengapa kita harus membela Palestina Karena telah terjadi kekerasan terhadap warga sipil terutama wanita dan anak anak WeSta',\n",
              " 'E J A Anak harus tumbuh dan berkembang dengan baik BERIKAN SENYUMAN BUKAN SIKSAAN CIPTAKAN KEDAMAIAN BUKAN KEKERASAN OpChildSafety',\n",
              " 'gestun anak Polri Halo Kak',\n",
              " 'Mengapa kita harus membela Palestina Karena telah terjadi kekerasan terhadap warga sipil terutama wanita dan anak anak WeSta',\n",
              " 'Mengapa kita harus membela Palestina Karena telah terjadi kekerasan terhadap warga sipil terutama wanita dan anak',\n",
              " 'Telah terjadi kekerasan terhadap warga sipil Palestina Bahkan Israel rutin menangkap anak anak remaja dan Palesti',\n",
              " 'gestun anak Polri Halo Kak',\n",
              " 'Anak SD SMA pun bisa burnout di situasi skrg Di rumah bokap nyokap saling adu teriak pas daring depan gaw',\n",
              " 'Jk pemimpin tdk amanah korup rakyat ricuh tdk tertib taat aturan pendidik tdk terbuka wawasan tdk bijak orgtua']"
            ]
          },
          "metadata": {
            "tags": []
          },
          "execution_count": 16
        }
      ]
    },
    {
      "cell_type": "code",
      "metadata": {
        "id": "fITWUrh9scoa"
      },
      "source": [
        "to_list = []\n",
        "for i in hasilAnalisis:\n",
        "  to_list.append(clear_data(i))"
      ],
      "execution_count": null,
      "outputs": []
    },
    {
      "cell_type": "code",
      "metadata": {
        "id": "IoRKlKqes1ri",
        "colab": {
          "base_uri": "https://localhost:8080/"
        },
        "outputId": "0dca3f7c-b960-44d7-d15f-448f0275f72e"
      },
      "source": [
        "to_list #bentuk list"
      ],
      "execution_count": null,
      "outputs": [
        {
          "output_type": "execute_result",
          "data": {
            "text/plain": [
              "['Bagaimana Mengatasi Anak Sembuh dari Trauma Kekerasan Ini Penjelasan Psikolog via',\n",
              " 'Apa Saja Dampak Psikologis bagi Anak yang Sering Mendapatkan Kekerasan Begini Tanggapan Psikolog',\n",
              " 'Meski begitu Rega tak pernah membalasnya Hei bisa bisa ia dicoret dan tak diaku sebagai anak oleh ibunya j',\n",
              " 'Menteri Pemberdayaan Perempuan dan Perlindungan Anak Bintang Puspayoga Senin   Siang meninjau kegiatan pelaks',\n",
              " 'Untuk melakukan upaya pencegahan kekerasan anak forum anak se Jawa Timur bertemu untuk membentuk agen informasi ba',\n",
              " 'E J A Anak harus tumbuh dan berkembang dengan baik BERIKAN SENYUMAN BUKAN SIKSAAN CIPTAKAN KEDAMAIAN BUKAN KEKERASAN OpChildSafety',\n",
              " 'Apresiasi Masyarakat Kepada Sat Reskrim Polres Tangsel Atas Pengungkapan Kasus Kekerasan Terhadap Anak SaveAnakIndones',\n",
              " 'hingga kekerasan dalam rumah tangga Anak yang riang anak ini pada umumnya sehat dan sering diabaikan saat dewas',\n",
              " 'non fiksi  jenis kekerasan anak amp tanda tanda anak korban kekerasan siapa tau ada di sekitar ca',\n",
              " 'pornografi adalah cara kita mengasihi orang lain namun sekarang hal yang porno dilarang tapi kekerasan boleh pera',\n",
              " 'Kekerasan terhadap perempuan ternyata sudah terjadi sejak menjadi anak dan masa pacaran Pendidikan salah satu upaya mengikis',\n",
              " 'Kekerasan terhadap perempuan ternyata sudah terjadi sejak menjadi anak dan masa pacaran Pendidikan salah satu upa',\n",
              " 'Berdasarkan dari Global Status Report on Preventing Violence Against Children  separuh dari total populasi',\n",
              " 'Pemkot Yogyakarta mencatat data kekerasan terhadap anak selama pandemi meningkat COVID COVID  COVID ',\n",
              " 'Ini juga kasus conan ga ada lgbt ga ada unsur kekerasan seksual atau perkosaan kayaknya gegara buat anak anak deh ranahnya wkwkw',\n",
              " 'Peningkatan jumlah kasus kekerasan pada perempuan dan anak menunjukkan rentannya peristiwa kekerasan dalam keluarga',\n",
              " 'Bisa ga sih orang dewasa sadar kalo mereka itu dicontoh sama anak kecil dan punya tanggung jawab utk melindungi ana',\n",
              " 'Polri  kekerasan terhadap anak pelaku nya adalah orang ter',\n",
              " 'Stop kekerasan terhadap anak Polri SaveAnakIndonesia',\n",
              " 'Angka Kekerasan Anak Tinggi KPA Tangani  Kasus Hukum Tahun ',\n",
              " 'Putri Ayu Soroti Kasus Kekerasan Terhadap Anak di Tangsel pdiperjuangan',\n",
              " 'bener deh indonesia darurat kekerasan seksual pada anak anak Pada gila x ya anak kecil yg d jadiin korban Ya Allah',\n",
              " 'Kekerasan terhadap Perempuan dan Anak di Masa Pandemi',\n",
              " 'tsk Buat STAY yang masih underage dan pengen nonton Deadpool soalnya emang Kids bawain konsep itu ada peringatan',\n",
              " 'DPA Sulteng Kekerasan perempuan anak masih sering terjadi',\n",
              " 'koko Anak anak korban KD atau korban bullying di sekolah atau tindak kekerasan mana saja sangat rentan mengalami trauma T',\n",
              " 'Rata rata anak anak yang mengalami kekerasan fisik akan mengalami penuaan lebih cepat',\n",
              " 'Stop kekerasan terhadap anak Polri SaveAnakIndonesia',\n",
              " 'Dan satu lagi bukan anak aja yg bisa durhaka sama orang tua Tp orang tua juga bisa durh',\n",
              " 'seburuk apapun perilaku anak padahal itu tanggung jawab orang tua bisa jadi juga cerminan sikap ortu',\n",
              " 'seburuk apapun perilaku anak padahal itu tanggung jawab orang tua bisa jadi juga cerminan sikap ortu',\n",
              " 'Terima kasih atas informasinya kekerasan terhadap anak sesuai mandat dapat dilaporkan ke',\n",
              " 'Halo Mumpung viral wkwk Mungkin belum banyak yang tahu kalau kita juga punya layanan hotline untuk pengaduan kekerasa',\n",
              " 'Stop kekerasan terhadap anak Polri SaveAnakIndonesia',\n",
              " 'Halo Mumpung viral wkwk Mungkin belum banyak yang tahu kalau kita juga punya layanan hotline untuk pengaduan kekerasa',\n",
              " 'tp se kurang ajarnya anak perempuan ga seharusnya dipukul dan dikasari apalagi menggunakan alat gaada ala',\n",
              " 'Karena pendidikan inklusif termasuk Sekolah Ramah Anak adalah satuan pendidikan yang mampu menjamin memenuhi meng',\n",
              " 'hr Ini tindakan kekerasan terhadap anak',\n",
              " 'Gaboleh kekerasan sama anak kecil',\n",
              " 'Halo Mumpung viral wkwk Mungkin belum banyak yang tahu kalau kita juga punya layanan hotline untuk pengaduan kekerasa',\n",
              " 'Halo Mumpung viral wkwk Mungkin belum banyak yang tahu kalau kita juga punya layanan hotline untuk pengaduan kekerasa',\n",
              " 'Bertemakan tentang anak anak bagaimana pelecehan atau kekerasan yang terjadi anak anak dan topik lainnya menjadika',\n",
              " 'Sampe akhir hayat mereka Dan sampe saat ini terlebih sering baca kasus abusive parents toxic parents kekerasa',\n",
              " 'Terima kasih atas informasinya kekerasan terhadap anak sesuai mandat dapat dilaporkan k',\n",
              " 'DPA Sulteng Kekerasan terhadap perempuan anak masih sering terjadi INDONESIA',\n",
              " 'Kasus kekerasan seksual marak Komisi Nasional Perlindungan Perempuan dan Anak mendesak pengesahan RUU PKS',\n",
              " 'Semacam nandur ngundhuh ya Membesarkan dengan kekerasan dan emosi membentuk anak de',\n",
              " ' Efek berbahaya pada kesehatan ibu karena peningkatan paparan panas  Berkurangnya akses ke air bersih selama k',\n",
              " 'Kasus kekerasan seksual marak Komisi Nasional Perlindungan Perempuan dan Anak mendesak pengesahan RUU PKS',\n",
              " 'Apresiasi Mayarakat Publik Figure Kepada Sat Reskrim Polres Tangsel Atas Pengungka',\n",
              " 'Apresiasi Mayarakat Publik Figure Kepada Sat Reskrim Polres Tangsel Atas Pengungkapan Kas',\n",
              " 'Gue ga membenarkan kekerasan pada anak Konteksnya itu ponsel dan kena marah',\n",
              " 'Menurut KPAI sudah menjadi tugas kita semua untuk melindungi siapa saja termasuk anak anak dari potensi kejahata',\n",
              " 'shouldn t have a kid kalo masih tidak bisa mengontrol emosi dan menyadari kalau anak sewaktu',\n",
              " 'jateng Hai sobat penak Pahami yuk berbagai istilah dalam pelecehan seksual Tetap waspada ya sobat terhadap kejahatan yan',\n",
              " 'sesalah apapun mukul anak itu gaada pembenarannya ngeri banget kalau orang orang kaya lo y',\n",
              " 'Kasus kekerasan seksual marak Komisi Nasional Perlindungan Perempuan dan Anak mendesak pengesahan RUU PKS',\n",
              " 'jangan gituuu itu kekerasan terhadap anak kecil tauuu',\n",
              " 'Keluarga nya lembek ngajarin anak pas awal mah pake kekerasan Giliran udah gede anaknya ga berguna malah dimanja',\n",
              " 'plis ini gue benci bgt gue pernah nyuruh anak gc fanbase gue utk stream setiap hari tp ga pake kekerasan cm s',\n",
              " 'Pemerintah Indonesia melalui Kementerian Luar Negeri secara konsisten mendukung pemenuhan hak warga Palestina Indo',\n",
              " 'Pemerintah Indonesia melalui Kementerian Luar Negeri secara konsisten mendukung pemenuhan hak warga Palestina Indo',\n",
              " 'Pemerintah Indonesia melalui Kementerian Luar Negeri secara konsisten mendukung pemenuhan hak warga Palestina Indo',\n",
              " 'Pemerintah Indonesia melalui Kementerian Luar Negeri secara konsisten mendukung pemenuhan hak warga Palestina Indo',\n",
              " 'Pemerintah Indonesia melalui Kementerian Luar Negeri secara konsisten mendukung pemenuhan hak warga Palestina Indo',\n",
              " 'Hai sobat penak Pahami yuk berbagai istilah dalam pelecehan seksual Tetap waspada ya sobat terhadap kejahatan',\n",
              " 'Pemerintah Indonesia melalui Kementerian Luar Negeri secara konsisten mendukung pemenuhan hak warga Palestina Indo',\n",
              " 'Kementerian PPA mencatat ada   kasus kekerasan terhadap perempuan dan anak sejak  Januari  Mei  Mayoritas kas',\n",
              " 'Jk pemimpin tdk amanah korup rakyat ricuh tdk tertib taat aturan pendidik tdk terbuka wawasan tdk bijak orgtua',\n",
              " 'Ada studi kasus misal Kalo anak nangis orang dlu malah marahin nyubit blablabla malah ik',\n",
              " 'Dilarang melakukan kekerasan pada anak',\n",
              " 'maap aku anak baik baik yg gak suka kekerasan dan rajin menabung',\n",
              " 'bener deh indonesia darurat kekerasan seksual pada anak anak Pada gila x ya anak kecil yg d jadiin korban Ya Allah',\n",
              " 'Yayasan JaRI Proudly Present LOMBA MENULIS MERDEKA DARI KEKERASAN Segera daftarkan diri kalian untuk ikutserta da',\n",
              " 'Indah Demi kebaikan kita bersama Polisi Akan Peringatkan Akun Medsos yang Unggah Video Kekerasan Anak di Tangsel',\n",
              " 'Indah Demi kebaikan kita bersama Polisi Akan Peringatkan Akun Medsos yang Unggah Video Kekerasan Anak di Tangsel',\n",
              " 'Indah Demi kebaikan kita bersama Polisi Akan Peringatkan Akun Medsos yang Unggah Video Kekerasan Anak di Tangsel',\n",
              " 'Amanah internasional lain adalah telah terjadi kekerasan terhadap warga Palestina termasuk wanita amp anak dan pem',\n",
              " 'Kementerian PPA mencatat ada   kasus kekerasan terhadap perempuan dan anak sejak  Januari  Mei  Mayor',\n",
              " 'Mau lapor kekerasan dan suami nya akan anak angkat mereka',\n",
              " 'Jk pemimpin tdk amanah korup rakyat ricuh tdk tertib taat aturan pendidik tdk terbuka wawasan tdk bijak orgtua',\n",
              " 'Data tahun  ada  kasus kekerasan sementara pada  ditemukan  kasus Sebanyak  kasus di antaranya m',\n",
              " 'Ini mungkin agak sensitif tapi sebenernya ya dokter bisa tau mana luka pada anak yang disebabkan oleh sebab yang tidak diseng',\n",
              " 'Emak ke aku nyubit paha kanan kiri sampe biru biru lalu lanjut ngegebuk pake sapu lidi Emak ke ade KAMU JADI',\n",
              " 'Part  Twitter pls do ur magic Jd bbrp hari lalu aku dpt kabar bahwa ada seorang anak perempuan namanya Dewi th dia',\n",
              " 'Sebagai seorang paralegal pendamping perempuan anak dan difabel korban kekerasan suka banget idol',\n",
              " 'Mengapa kita harus membela Palestina Karena telah terjadi kekerasan terhadap warga sipil terutama wanita dan anak anak WeSta',\n",
              " 'Senakal nakalnya atau sekurang ajarnya anak kekerasan fisik dalam mendidik tidak di benarkan',\n",
              " 'E J A Anak harus tumbuh dan berkembang dengan baik BERIKAN SENYUMAN BUKAN SIKSAAN CIPTAKAN KEDAMAIAN BUKAN KEKERASAN OpChildSafety',\n",
              " 'Mengapa kita harus membela Palestina Karena telah terjadi kekerasan terhadap warga sipil terutama wanita dan anak anak WeSta',\n",
              " 'E J A Anak harus tumbuh dan berkembang dengan baik BERIKAN SENYUMAN BUKAN SIKSAAN CIPTAKAN KEDAMAIAN BUKAN KEKERASAN OpChildSafety',\n",
              " 'Mengapa kita harus membela Palestina Karena telah terjadi kekerasan terhadap warga sipil terutama wanita dan anak anak WeSta',\n",
              " 'E J A Anak harus tumbuh dan berkembang dengan baik BERIKAN SENYUMAN BUKAN SIKSAAN CIPTAKAN KEDAMAIAN BUKAN KEKERASAN OpChildSafety',\n",
              " 'gestun anak Polri Halo Kak',\n",
              " 'Mengapa kita harus membela Palestina Karena telah terjadi kekerasan terhadap warga sipil terutama wanita dan anak anak WeSta',\n",
              " 'Mengapa kita harus membela Palestina Karena telah terjadi kekerasan terhadap warga sipil terutama wanita dan anak',\n",
              " 'Telah terjadi kekerasan terhadap warga sipil Palestina Bahkan Israel rutin menangkap anak anak remaja dan Palesti',\n",
              " 'gestun anak Polri Halo Kak',\n",
              " 'Anak SD SMA pun bisa burnout di situasi skrg Di rumah bokap nyokap saling adu teriak pas daring depan gaw',\n",
              " 'Jk pemimpin tdk amanah korup rakyat ricuh tdk tertib taat aturan pendidik tdk terbuka wawasan tdk bijak orgtua']"
            ]
          },
          "metadata": {
            "tags": []
          },
          "execution_count": 18
        }
      ]
    },
    {
      "cell_type": "code",
      "metadata": {
        "id": "8U7ccQhz30yO"
      },
      "source": [
        "# dictionary of lists  \n",
        "dict = {'text': to_list}  \n",
        "df = pd.DataFrame(dict)\n",
        "df.to_csv('output.csv') "
      ],
      "execution_count": null,
      "outputs": []
    },
    {
      "cell_type": "markdown",
      "metadata": {
        "id": "f791LRy9DoJ8"
      },
      "source": [
        "# UPLOAD"
      ]
    },
    {
      "cell_type": "code",
      "metadata": {
        "colab": {
          "resources": {
            "http://localhost:8080/nbextensions/google.colab/files.js": {
              "data": "Ly8gQ29weXJpZ2h0IDIwMTcgR29vZ2xlIExMQwovLwovLyBMaWNlbnNlZCB1bmRlciB0aGUgQXBhY2hlIExpY2Vuc2UsIFZlcnNpb24gMi4wICh0aGUgIkxpY2Vuc2UiKTsKLy8geW91IG1heSBub3QgdXNlIHRoaXMgZmlsZSBleGNlcHQgaW4gY29tcGxpYW5jZSB3aXRoIHRoZSBMaWNlbnNlLgovLyBZb3UgbWF5IG9idGFpbiBhIGNvcHkgb2YgdGhlIExpY2Vuc2UgYXQKLy8KLy8gICAgICBodHRwOi8vd3d3LmFwYWNoZS5vcmcvbGljZW5zZXMvTElDRU5TRS0yLjAKLy8KLy8gVW5sZXNzIHJlcXVpcmVkIGJ5IGFwcGxpY2FibGUgbGF3IG9yIGFncmVlZCB0byBpbiB3cml0aW5nLCBzb2Z0d2FyZQovLyBkaXN0cmlidXRlZCB1bmRlciB0aGUgTGljZW5zZSBpcyBkaXN0cmlidXRlZCBvbiBhbiAiQVMgSVMiIEJBU0lTLAovLyBXSVRIT1VUIFdBUlJBTlRJRVMgT1IgQ09ORElUSU9OUyBPRiBBTlkgS0lORCwgZWl0aGVyIGV4cHJlc3Mgb3IgaW1wbGllZC4KLy8gU2VlIHRoZSBMaWNlbnNlIGZvciB0aGUgc3BlY2lmaWMgbGFuZ3VhZ2UgZ292ZXJuaW5nIHBlcm1pc3Npb25zIGFuZAovLyBsaW1pdGF0aW9ucyB1bmRlciB0aGUgTGljZW5zZS4KCi8qKgogKiBAZmlsZW92ZXJ2aWV3IEhlbHBlcnMgZm9yIGdvb2dsZS5jb2xhYiBQeXRob24gbW9kdWxlLgogKi8KKGZ1bmN0aW9uKHNjb3BlKSB7CmZ1bmN0aW9uIHNwYW4odGV4dCwgc3R5bGVBdHRyaWJ1dGVzID0ge30pIHsKICBjb25zdCBlbGVtZW50ID0gZG9jdW1lbnQuY3JlYXRlRWxlbWVudCgnc3BhbicpOwogIGVsZW1lbnQudGV4dENvbnRlbnQgPSB0ZXh0OwogIGZvciAoY29uc3Qga2V5IG9mIE9iamVjdC5rZXlzKHN0eWxlQXR0cmlidXRlcykpIHsKICAgIGVsZW1lbnQuc3R5bGVba2V5XSA9IHN0eWxlQXR0cmlidXRlc1trZXldOwogIH0KICByZXR1cm4gZWxlbWVudDsKfQoKLy8gTWF4IG51bWJlciBvZiBieXRlcyB3aGljaCB3aWxsIGJlIHVwbG9hZGVkIGF0IGEgdGltZS4KY29uc3QgTUFYX1BBWUxPQURfU0laRSA9IDEwMCAqIDEwMjQ7CgpmdW5jdGlvbiBfdXBsb2FkRmlsZXMoaW5wdXRJZCwgb3V0cHV0SWQpIHsKICBjb25zdCBzdGVwcyA9IHVwbG9hZEZpbGVzU3RlcChpbnB1dElkLCBvdXRwdXRJZCk7CiAgY29uc3Qgb3V0cHV0RWxlbWVudCA9IGRvY3VtZW50LmdldEVsZW1lbnRCeUlkKG91dHB1dElkKTsKICAvLyBDYWNoZSBzdGVwcyBvbiB0aGUgb3V0cHV0RWxlbWVudCB0byBtYWtlIGl0IGF2YWlsYWJsZSBmb3IgdGhlIG5leHQgY2FsbAogIC8vIHRvIHVwbG9hZEZpbGVzQ29udGludWUgZnJvbSBQeXRob24uCiAgb3V0cHV0RWxlbWVudC5zdGVwcyA9IHN0ZXBzOwoKICByZXR1cm4gX3VwbG9hZEZpbGVzQ29udGludWUob3V0cHV0SWQpOwp9CgovLyBUaGlzIGlzIHJvdWdobHkgYW4gYXN5bmMgZ2VuZXJhdG9yIChub3Qgc3VwcG9ydGVkIGluIHRoZSBicm93c2VyIHlldCksCi8vIHdoZXJlIHRoZXJlIGFyZSBtdWx0aXBsZSBhc3luY2hyb25vdXMgc3RlcHMgYW5kIHRoZSBQeXRob24gc2lkZSBpcyBnb2luZwovLyB0byBwb2xsIGZvciBjb21wbGV0aW9uIG9mIGVhY2ggc3RlcC4KLy8gVGhpcyB1c2VzIGEgUHJvbWlzZSB0byBibG9jayB0aGUgcHl0aG9uIHNpZGUgb24gY29tcGxldGlvbiBvZiBlYWNoIHN0ZXAsCi8vIHRoZW4gcGFzc2VzIHRoZSByZXN1bHQgb2YgdGhlIHByZXZpb3VzIHN0ZXAgYXMgdGhlIGlucHV0IHRvIHRoZSBuZXh0IHN0ZXAuCmZ1bmN0aW9uIF91cGxvYWRGaWxlc0NvbnRpbnVlKG91dHB1dElkKSB7CiAgY29uc3Qgb3V0cHV0RWxlbWVudCA9IGRvY3VtZW50LmdldEVsZW1lbnRCeUlkKG91dHB1dElkKTsKICBjb25zdCBzdGVwcyA9IG91dHB1dEVsZW1lbnQuc3RlcHM7CgogIGNvbnN0IG5leHQgPSBzdGVwcy5uZXh0KG91dHB1dEVsZW1lbnQubGFzdFByb21pc2VWYWx1ZSk7CiAgcmV0dXJuIFByb21pc2UucmVzb2x2ZShuZXh0LnZhbHVlLnByb21pc2UpLnRoZW4oKHZhbHVlKSA9PiB7CiAgICAvLyBDYWNoZSB0aGUgbGFzdCBwcm9taXNlIHZhbHVlIHRvIG1ha2UgaXQgYXZhaWxhYmxlIHRvIHRoZSBuZXh0CiAgICAvLyBzdGVwIG9mIHRoZSBnZW5lcmF0b3IuCiAgICBvdXRwdXRFbGVtZW50Lmxhc3RQcm9taXNlVmFsdWUgPSB2YWx1ZTsKICAgIHJldHVybiBuZXh0LnZhbHVlLnJlc3BvbnNlOwogIH0pOwp9CgovKioKICogR2VuZXJhdG9yIGZ1bmN0aW9uIHdoaWNoIGlzIGNhbGxlZCBiZXR3ZWVuIGVhY2ggYXN5bmMgc3RlcCBvZiB0aGUgdXBsb2FkCiAqIHByb2Nlc3MuCiAqIEBwYXJhbSB7c3RyaW5nfSBpbnB1dElkIEVsZW1lbnQgSUQgb2YgdGhlIGlucHV0IGZpbGUgcGlja2VyIGVsZW1lbnQuCiAqIEBwYXJhbSB7c3RyaW5nfSBvdXRwdXRJZCBFbGVtZW50IElEIG9mIHRoZSBvdXRwdXQgZGlzcGxheS4KICogQHJldHVybiB7IUl0ZXJhYmxlPCFPYmplY3Q+fSBJdGVyYWJsZSBvZiBuZXh0IHN0ZXBzLgogKi8KZnVuY3Rpb24qIHVwbG9hZEZpbGVzU3RlcChpbnB1dElkLCBvdXRwdXRJZCkgewogIGNvbnN0IGlucHV0RWxlbWVudCA9IGRvY3VtZW50LmdldEVsZW1lbnRCeUlkKGlucHV0SWQpOwogIGlucHV0RWxlbWVudC5kaXNhYmxlZCA9IGZhbHNlOwoKICBjb25zdCBvdXRwdXRFbGVtZW50ID0gZG9jdW1lbnQuZ2V0RWxlbWVudEJ5SWQob3V0cHV0SWQpOwogIG91dHB1dEVsZW1lbnQuaW5uZXJIVE1MID0gJyc7CgogIGNvbnN0IHBpY2tlZFByb21pc2UgPSBuZXcgUHJvbWlzZSgocmVzb2x2ZSkgPT4gewogICAgaW5wdXRFbGVtZW50LmFkZEV2ZW50TGlzdGVuZXIoJ2NoYW5nZScsIChlKSA9PiB7CiAgICAgIHJlc29sdmUoZS50YXJnZXQuZmlsZXMpOwogICAgfSk7CiAgfSk7CgogIGNvbnN0IGNhbmNlbCA9IGRvY3VtZW50LmNyZWF0ZUVsZW1lbnQoJ2J1dHRvbicpOwogIGlucHV0RWxlbWVudC5wYXJlbnRFbGVtZW50LmFwcGVuZENoaWxkKGNhbmNlbCk7CiAgY2FuY2VsLnRleHRDb250ZW50ID0gJ0NhbmNlbCB1cGxvYWQnOwogIGNvbnN0IGNhbmNlbFByb21pc2UgPSBuZXcgUHJvbWlzZSgocmVzb2x2ZSkgPT4gewogICAgY2FuY2VsLm9uY2xpY2sgPSAoKSA9PiB7CiAgICAgIHJlc29sdmUobnVsbCk7CiAgICB9OwogIH0pOwoKICAvLyBXYWl0IGZvciB0aGUgdXNlciB0byBwaWNrIHRoZSBmaWxlcy4KICBjb25zdCBmaWxlcyA9IHlpZWxkIHsKICAgIHByb21pc2U6IFByb21pc2UucmFjZShbcGlja2VkUHJvbWlzZSwgY2FuY2VsUHJvbWlzZV0pLAogICAgcmVzcG9uc2U6IHsKICAgICAgYWN0aW9uOiAnc3RhcnRpbmcnLAogICAgfQogIH07CgogIGNhbmNlbC5yZW1vdmUoKTsKCiAgLy8gRGlzYWJsZSB0aGUgaW5wdXQgZWxlbWVudCBzaW5jZSBmdXJ0aGVyIHBpY2tzIGFyZSBub3QgYWxsb3dlZC4KICBpbnB1dEVsZW1lbnQuZGlzYWJsZWQgPSB0cnVlOwoKICBpZiAoIWZpbGVzKSB7CiAgICByZXR1cm4gewogICAgICByZXNwb25zZTogewogICAgICAgIGFjdGlvbjogJ2NvbXBsZXRlJywKICAgICAgfQogICAgfTsKICB9CgogIGZvciAoY29uc3QgZmlsZSBvZiBmaWxlcykgewogICAgY29uc3QgbGkgPSBkb2N1bWVudC5jcmVhdGVFbGVtZW50KCdsaScpOwogICAgbGkuYXBwZW5kKHNwYW4oZmlsZS5uYW1lLCB7Zm9udFdlaWdodDogJ2JvbGQnfSkpOwogICAgbGkuYXBwZW5kKHNwYW4oCiAgICAgICAgYCgke2ZpbGUudHlwZSB8fCAnbi9hJ30pIC0gJHtmaWxlLnNpemV9IGJ5dGVzLCBgICsKICAgICAgICBgbGFzdCBtb2RpZmllZDogJHsKICAgICAgICAgICAgZmlsZS5sYXN0TW9kaWZpZWREYXRlID8gZmlsZS5sYXN0TW9kaWZpZWREYXRlLnRvTG9jYWxlRGF0ZVN0cmluZygpIDoKICAgICAgICAgICAgICAgICAgICAgICAgICAgICAgICAgICAgJ24vYSd9IC0gYCkpOwogICAgY29uc3QgcGVyY2VudCA9IHNwYW4oJzAlIGRvbmUnKTsKICAgIGxpLmFwcGVuZENoaWxkKHBlcmNlbnQpOwoKICAgIG91dHB1dEVsZW1lbnQuYXBwZW5kQ2hpbGQobGkpOwoKICAgIGNvbnN0IGZpbGVEYXRhUHJvbWlzZSA9IG5ldyBQcm9taXNlKChyZXNvbHZlKSA9PiB7CiAgICAgIGNvbnN0IHJlYWRlciA9IG5ldyBGaWxlUmVhZGVyKCk7CiAgICAgIHJlYWRlci5vbmxvYWQgPSAoZSkgPT4gewogICAgICAgIHJlc29sdmUoZS50YXJnZXQucmVzdWx0KTsKICAgICAgfTsKICAgICAgcmVhZGVyLnJlYWRBc0FycmF5QnVmZmVyKGZpbGUpOwogICAgfSk7CiAgICAvLyBXYWl0IGZvciB0aGUgZGF0YSB0byBiZSByZWFkeS4KICAgIGxldCBmaWxlRGF0YSA9IHlpZWxkIHsKICAgICAgcHJvbWlzZTogZmlsZURhdGFQcm9taXNlLAogICAgICByZXNwb25zZTogewogICAgICAgIGFjdGlvbjogJ2NvbnRpbnVlJywKICAgICAgfQogICAgfTsKCiAgICAvLyBVc2UgYSBjaHVua2VkIHNlbmRpbmcgdG8gYXZvaWQgbWVzc2FnZSBzaXplIGxpbWl0cy4gU2VlIGIvNjIxMTU2NjAuCiAgICBsZXQgcG9zaXRpb24gPSAwOwogICAgd2hpbGUgKHBvc2l0aW9uIDwgZmlsZURhdGEuYnl0ZUxlbmd0aCkgewogICAgICBjb25zdCBsZW5ndGggPSBNYXRoLm1pbihmaWxlRGF0YS5ieXRlTGVuZ3RoIC0gcG9zaXRpb24sIE1BWF9QQVlMT0FEX1NJWkUpOwogICAgICBjb25zdCBjaHVuayA9IG5ldyBVaW50OEFycmF5KGZpbGVEYXRhLCBwb3NpdGlvbiwgbGVuZ3RoKTsKICAgICAgcG9zaXRpb24gKz0gbGVuZ3RoOwoKICAgICAgY29uc3QgYmFzZTY0ID0gYnRvYShTdHJpbmcuZnJvbUNoYXJDb2RlLmFwcGx5KG51bGwsIGNodW5rKSk7CiAgICAgIHlpZWxkIHsKICAgICAgICByZXNwb25zZTogewogICAgICAgICAgYWN0aW9uOiAnYXBwZW5kJywKICAgICAgICAgIGZpbGU6IGZpbGUubmFtZSwKICAgICAgICAgIGRhdGE6IGJhc2U2NCwKICAgICAgICB9LAogICAgICB9OwogICAgICBwZXJjZW50LnRleHRDb250ZW50ID0KICAgICAgICAgIGAke01hdGgucm91bmQoKHBvc2l0aW9uIC8gZmlsZURhdGEuYnl0ZUxlbmd0aCkgKiAxMDApfSUgZG9uZWA7CiAgICB9CiAgfQoKICAvLyBBbGwgZG9uZS4KICB5aWVsZCB7CiAgICByZXNwb25zZTogewogICAgICBhY3Rpb246ICdjb21wbGV0ZScsCiAgICB9CiAgfTsKfQoKc2NvcGUuZ29vZ2xlID0gc2NvcGUuZ29vZ2xlIHx8IHt9OwpzY29wZS5nb29nbGUuY29sYWIgPSBzY29wZS5nb29nbGUuY29sYWIgfHwge307CnNjb3BlLmdvb2dsZS5jb2xhYi5fZmlsZXMgPSB7CiAgX3VwbG9hZEZpbGVzLAogIF91cGxvYWRGaWxlc0NvbnRpbnVlLAp9Owp9KShzZWxmKTsK",
              "ok": true,
              "headers": [
                [
                  "content-type",
                  "application/javascript"
                ]
              ],
              "status": 200,
              "status_text": ""
            }
          },
          "base_uri": "https://localhost:8080/",
          "height": 74
        },
        "id": "0L0XzSLvCK7m",
        "outputId": "a2389aba-45c8-419b-f249-f36f4b461200"
      },
      "source": [
        "from google.colab import files\n",
        "uploaded = files.upload()"
      ],
      "execution_count": null,
      "outputs": [
        {
          "output_type": "display_data",
          "data": {
            "text/html": [
              "\n",
              "     <input type=\"file\" id=\"files-429909c9-5492-41c7-b301-6faec4c9382b\" name=\"files[]\" multiple disabled\n",
              "        style=\"border:none\" />\n",
              "     <output id=\"result-429909c9-5492-41c7-b301-6faec4c9382b\">\n",
              "      Upload widget is only available when the cell has been executed in the\n",
              "      current browser session. Please rerun this cell to enable.\n",
              "      </output>\n",
              "      <script src=\"/nbextensions/google.colab/files.js\"></script> "
            ],
            "text/plain": [
              "<IPython.core.display.HTML object>"
            ]
          },
          "metadata": {
            "tags": []
          }
        },
        {
          "output_type": "stream",
          "text": [
            "Saving Twitter_Mining_Dataset - MINING_MANUAL.csv to Twitter_Mining_Dataset - MINING_MANUAL.csv\n"
          ],
          "name": "stdout"
        }
      ]
    },
    {
      "cell_type": "code",
      "metadata": {
        "colab": {
          "base_uri": "https://localhost:8080/",
          "height": 402
        },
        "id": "QlwdCBb-Ci2l",
        "outputId": "57c465b6-7dce-4d02-a9a6-196cb095995b"
      },
      "source": [
        "df = pd.read_csv('output.csv')\n",
        "df\n",
        "# Dataset is now stored in a Pandas Dataframe"
      ],
      "execution_count": null,
      "outputs": [
        {
          "output_type": "execute_result",
          "data": {
            "text/html": [
              "<div>\n",
              "<style scoped>\n",
              "    .dataframe tbody tr th:only-of-type {\n",
              "        vertical-align: middle;\n",
              "    }\n",
              "\n",
              "    .dataframe tbody tr th {\n",
              "        vertical-align: top;\n",
              "    }\n",
              "\n",
              "    .dataframe thead th {\n",
              "        text-align: right;\n",
              "    }\n",
              "</style>\n",
              "<table border=\"1\" class=\"dataframe\">\n",
              "  <thead>\n",
              "    <tr style=\"text-align: right;\">\n",
              "      <th></th>\n",
              "      <th>Unnamed: 0</th>\n",
              "      <th>text</th>\n",
              "    </tr>\n",
              "  </thead>\n",
              "  <tbody>\n",
              "    <tr>\n",
              "      <th>0</th>\n",
              "      <td>0</td>\n",
              "      <td>Bagaimana Mengatasi Anak Sembuh dari Trauma Ke...</td>\n",
              "    </tr>\n",
              "    <tr>\n",
              "      <th>1</th>\n",
              "      <td>1</td>\n",
              "      <td>Apa Saja Dampak Psikologis bagi Anak yang Seri...</td>\n",
              "    </tr>\n",
              "    <tr>\n",
              "      <th>2</th>\n",
              "      <td>2</td>\n",
              "      <td>Meski begitu Rega tak pernah membalasnya Hei b...</td>\n",
              "    </tr>\n",
              "    <tr>\n",
              "      <th>3</th>\n",
              "      <td>3</td>\n",
              "      <td>Menteri Pemberdayaan Perempuan dan Perlindunga...</td>\n",
              "    </tr>\n",
              "    <tr>\n",
              "      <th>4</th>\n",
              "      <td>4</td>\n",
              "      <td>Untuk melakukan upaya pencegahan kekerasan ana...</td>\n",
              "    </tr>\n",
              "    <tr>\n",
              "      <th>...</th>\n",
              "      <td>...</td>\n",
              "      <td>...</td>\n",
              "    </tr>\n",
              "    <tr>\n",
              "      <th>95</th>\n",
              "      <td>95</td>\n",
              "      <td>Mengapa kita harus membela Palestina Karena te...</td>\n",
              "    </tr>\n",
              "    <tr>\n",
              "      <th>96</th>\n",
              "      <td>96</td>\n",
              "      <td>Telah terjadi kekerasan terhadap warga sipil P...</td>\n",
              "    </tr>\n",
              "    <tr>\n",
              "      <th>97</th>\n",
              "      <td>97</td>\n",
              "      <td>gestun anak Polri Halo Kak</td>\n",
              "    </tr>\n",
              "    <tr>\n",
              "      <th>98</th>\n",
              "      <td>98</td>\n",
              "      <td>Anak SD SMA pun bisa burnout di situasi skrg D...</td>\n",
              "    </tr>\n",
              "    <tr>\n",
              "      <th>99</th>\n",
              "      <td>99</td>\n",
              "      <td>Jk pemimpin tdk amanah korup rakyat ricuh tdk ...</td>\n",
              "    </tr>\n",
              "  </tbody>\n",
              "</table>\n",
              "<p>100 rows × 2 columns</p>\n",
              "</div>"
            ],
            "text/plain": [
              "    Unnamed: 0                                               text\n",
              "0            0  Bagaimana Mengatasi Anak Sembuh dari Trauma Ke...\n",
              "1            1  Apa Saja Dampak Psikologis bagi Anak yang Seri...\n",
              "2            2  Meski begitu Rega tak pernah membalasnya Hei b...\n",
              "3            3  Menteri Pemberdayaan Perempuan dan Perlindunga...\n",
              "4            4  Untuk melakukan upaya pencegahan kekerasan ana...\n",
              "..         ...                                                ...\n",
              "95          95  Mengapa kita harus membela Palestina Karena te...\n",
              "96          96  Telah terjadi kekerasan terhadap warga sipil P...\n",
              "97          97                         gestun anak Polri Halo Kak\n",
              "98          98  Anak SD SMA pun bisa burnout di situasi skrg D...\n",
              "99          99  Jk pemimpin tdk amanah korup rakyat ricuh tdk ...\n",
              "\n",
              "[100 rows x 2 columns]"
            ]
          },
          "metadata": {
            "tags": []
          },
          "execution_count": 20
        }
      ]
    }
  ]
}